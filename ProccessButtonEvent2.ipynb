{
 "cells": [
  {
   "cell_type": "code",
   "execution_count": null,
   "metadata": {},
   "outputs": [],
   "source": [
    "from tkinter import *\n",
    "\n",
    "#ProccessButtonEvent\n",
    "\n",
    "def __init__(self):\n",
    "    window = Tk()\n",
    "    btOK = Button(window, text=\"ok\", fg= \"red\", command= processOK)\n",
    "    btcancel = Button(window, text= \"cancel\", bg= \"yellow\", command= processCancel)\n",
    "    btOK.pack()\n",
    "    btcancel.pack()\n",
    "\n",
    "window.mainloop()\n",
    "\n",
    "def processOK():\n",
    "    print(\"OK button is clicked\")\n",
    "\n",
    "def processCancel():\n",
    "    print(\"Cancled button is clicked\")\n",
    "    \n",
    "\n",
    "ProcessButtonEvent() #object\n"
   ]
  }
 ],
 "metadata": {
  "language_info": {
   "name": "python"
  },
  "orig_nbformat": 4
 },
 "nbformat": 4,
 "nbformat_minor": 2
}
