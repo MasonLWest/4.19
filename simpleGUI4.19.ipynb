{
 "cells": [
  {
   "cell_type": "code",
   "execution_count": null,
   "metadata": {},
   "outputs": [],
   "source": [
    "from tkinter import *\n",
    "\n",
    "#simple GUI\n",
    "\n",
    "window = Tk() #creates window\n",
    "Label = Label(window, text= 'welcome to python') #label\n",
    "Button = Button(window, text=' Click me') #Button\n",
    "Label.pack() #place label into window\n",
    "Button.pack() #place button into window\n",
    "\n",
    "window.mainloop() # create event"
   ]
  }
 ],
 "metadata": {
  "language_info": {
   "name": "python"
  },
  "orig_nbformat": 4
 },
 "nbformat": 4,
 "nbformat_minor": 2
}
